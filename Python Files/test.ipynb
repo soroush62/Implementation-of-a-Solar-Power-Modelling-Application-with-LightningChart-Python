{
 "cells": [
  {
   "cell_type": "code",
   "execution_count": 20,
   "metadata": {},
   "outputs": [],
   "source": [
    "import lightningchart as lc\n",
    "import pandas as pd\n",
    "import numpy as np\n",
    "from sklearn.ensemble import RandomForestRegressor, VotingRegressor\n",
    "from sklearn.linear_model import LinearRegression\n",
    "from sklearn.model_selection import train_test_split\n",
    "from sklearn.preprocessing import StandardScaler\n",
    "from sklearn.pipeline import Pipeline\n",
    "from sklearn.compose import ColumnTransformer\n",
    "from sklearn.metrics import mean_squared_error\n",
    "from xgboost import XGBRegressor\n",
    "from lightgbm import LGBMRegressor\n",
    "from catboost import CatBoostRegressor\n",
    "\n",
    "with open('D:/Computer Aplication/WorkPlacement/Projects/shared_variable.txt', 'r') as f:\n",
    "    mylicensekey = f.read().strip()\n",
    "lc.set_license(mylicensekey)"
   ]
  },
  {
   "cell_type": "code",
   "execution_count": 12,
   "metadata": {},
   "outputs": [
    {
     "name": "stdout",
     "output_type": "stream",
     "text": [
      "   DATE_TIME  PLANT_ID       SOURCE_KEY  DC_POWER  AC_POWER  DAILY_YIELD  \\\n",
      "0 2020-05-15   4136001  4UPUqMRk7TRMgml       0.0       0.0  9425.000000   \n",
      "1 2020-05-15   4136001  81aHJ1q11NBPMrL       0.0       0.0     0.000000   \n",
      "2 2020-05-15   4136001  9kRcWv60rDACzjR       0.0       0.0  3075.333333   \n",
      "3 2020-05-15   4136001  Et9kgGMDl729KT4       0.0       0.0   269.933333   \n",
      "4 2020-05-15   4136001  IQ2d7wF4YD8zU1Q       0.0       0.0  3177.000000   \n",
      "\n",
      "    TOTAL_YIELD  \n",
      "0  2.429011e+06  \n",
      "1  1.215279e+09  \n",
      "2  2.247720e+09  \n",
      "3  1.704250e+06  \n",
      "4  1.994153e+07  \n",
      "            DATE_TIME  PLANT_ID       SOURCE_KEY  AMBIENT_TEMPERATURE  \\\n",
      "0 2020-05-15 00:00:00   4136001  iq8k7ZNt4Mwm3w0            27.004764   \n",
      "1 2020-05-15 00:15:00   4136001  iq8k7ZNt4Mwm3w0            26.880811   \n",
      "2 2020-05-15 00:30:00   4136001  iq8k7ZNt4Mwm3w0            26.682055   \n",
      "3 2020-05-15 00:45:00   4136001  iq8k7ZNt4Mwm3w0            26.500589   \n",
      "4 2020-05-15 01:00:00   4136001  iq8k7ZNt4Mwm3w0            26.596148   \n",
      "\n",
      "   MODULE_TEMPERATURE  IRRADIATION  \n",
      "0           25.060789          0.0  \n",
      "1           24.421869          0.0  \n",
      "2           24.427290          0.0  \n",
      "3           24.420678          0.0  \n",
      "4           25.088210          0.0  \n"
     ]
    }
   ],
   "source": [
    "generation_data = pd.read_csv('D:/wenprograming23/src/team6/Implementation-of-a-Solar-Power-Modelling-Application-with-LightningChart-Python/Dataset/Plant_2_Generation_Data.csv')\n",
    "weather_data = pd.read_csv('D:/wenprograming23/src/team6/Implementation-of-a-Solar-Power-Modelling-Application-with-LightningChart-Python/Dataset/Plant_2_Weather_Sensor_Data.csv')\n",
    "\n",
    "generation_data['DATE_TIME'] = pd.to_datetime(generation_data['DATE_TIME'])\n",
    "weather_data['DATE_TIME'] = pd.to_datetime(weather_data['DATE_TIME'])\n",
    "\n",
    "print(generation_data.head())\n",
    "print(weather_data.head())"
   ]
  },
  {
   "cell_type": "code",
   "execution_count": 13,
   "metadata": {},
   "outputs": [
    {
     "name": "stdout",
     "output_type": "stream",
     "text": [
      "   DATE_TIME  PLANT_ID     SOURCE_KEY_x  DC_POWER  AC_POWER  DAILY_YIELD  \\\n",
      "0 2020-05-15   4136001  4UPUqMRk7TRMgml       0.0       0.0  9425.000000   \n",
      "1 2020-05-15   4136001  81aHJ1q11NBPMrL       0.0       0.0     0.000000   \n",
      "2 2020-05-15   4136001  9kRcWv60rDACzjR       0.0       0.0  3075.333333   \n",
      "3 2020-05-15   4136001  Et9kgGMDl729KT4       0.0       0.0   269.933333   \n",
      "4 2020-05-15   4136001  IQ2d7wF4YD8zU1Q       0.0       0.0  3177.000000   \n",
      "\n",
      "    TOTAL_YIELD     SOURCE_KEY_y  AMBIENT_TEMPERATURE  MODULE_TEMPERATURE  \\\n",
      "0  2.429011e+06  iq8k7ZNt4Mwm3w0            27.004764           25.060789   \n",
      "1  1.215279e+09  iq8k7ZNt4Mwm3w0            27.004764           25.060789   \n",
      "2  2.247720e+09  iq8k7ZNt4Mwm3w0            27.004764           25.060789   \n",
      "3  1.704250e+06  iq8k7ZNt4Mwm3w0            27.004764           25.060789   \n",
      "4  1.994153e+07  iq8k7ZNt4Mwm3w0            27.004764           25.060789   \n",
      "\n",
      "   IRRADIATION  \n",
      "0          0.0  \n",
      "1          0.0  \n",
      "2          0.0  \n",
      "3          0.0  \n",
      "4          0.0  \n"
     ]
    }
   ],
   "source": [
    "merged_data = pd.merge(generation_data, weather_data, on=['DATE_TIME', 'PLANT_ID'])\n",
    "\n",
    "print(merged_data.head())\n"
   ]
  },
  {
   "cell_type": "code",
   "execution_count": 14,
   "metadata": {},
   "outputs": [],
   "source": [
    "selected_features = merged_data[['DC_POWER', 'AC_POWER', 'AMBIENT_TEMPERATURE', 'MODULE_TEMPERATURE', 'IRRADIATION']]\n",
    "\n",
    "corr_matrix = selected_features.corr()\n",
    "\n",
    "heatmap_data = corr_matrix.values.tolist()"
   ]
  },
  {
   "cell_type": "code",
   "execution_count": 15,
   "metadata": {},
   "outputs": [
    {
     "data": {
      "text/html": [
       "\n",
       "        <iframe\n",
       "            width=\"100%\"\n",
       "            height=\"600\"\n",
       "            src=\"http://localhost:53136\"\n",
       "            frameborder=\"0\"\n",
       "            allowfullscreen\n",
       "            \n",
       "        ></iframe>\n",
       "        "
      ],
      "text/plain": [
       "<IPython.lib.display.IFrame at 0x221ac3d6b90>"
      ]
     },
     "execution_count": 15,
     "metadata": {},
     "output_type": "execute_result"
    }
   ],
   "source": [
    "# Initialize the heatmap chart\n",
    "chart = lc.ChartXY(\n",
    "    theme=lc.Themes.White,\n",
    "    title='Correlation Heatmap of Solar Plant Features'\n",
    ")\n",
    "\n",
    "# Create the heatmap grid series\n",
    "series = chart.add_heatmap_grid_series(\n",
    "    columns=len(heatmap_data),\n",
    "    rows=len(heatmap_data[0])\n",
    ")\n",
    "\n",
    "# Customize the heatmap\n",
    "series.hide_wireframe()\n",
    "series.set_intensity_interpolation(False)\n",
    "series.invalidate_intensity_values(heatmap_data)\n",
    "\n",
    "# Define color steps for the heatmap\n",
    "series.set_palette_colors(\n",
    "    steps=[\n",
    "        {\"value\": -1.0, \"color\": lc.Color(0, 0, 255)},  # Blue for negative correlation\n",
    "        {\"value\": 0.0, \"color\": lc.Color(255, 255, 255)},  # White for no correlation\n",
    "        {\"value\": 1.0, \"color\": lc.Color(255, 0, 0)}  # Red for positive correlation\n",
    "    ],\n",
    "    look_up_property='value',\n",
    "    percentage_values=False\n",
    ")\n",
    "\n",
    "# Customize the x and y axes\n",
    "x_axis = chart.get_default_x_axis()\n",
    "x_axis.set_title('Feature Index')\n",
    "x_axis.set_interval(0, len(selected_features.columns))\n",
    "\n",
    "y_axis = chart.get_default_y_axis()\n",
    "y_axis.set_title('Feature Index')\n",
    "y_axis.set_interval(0, len(selected_features.columns))\n",
    "\n",
    "# Open the chart\n",
    "chart.open()\n"
   ]
  },
  {
   "cell_type": "code",
   "execution_count": 21,
   "metadata": {},
   "outputs": [],
   "source": [
    "features = merged_data[['IRRADIATION', 'AMBIENT_TEMPERATURE', 'MODULE_TEMPERATURE']]\n",
    "target = merged_data['AC_POWER']\n",
    "\n",
    "X_train, X_test, y_train, y_test = train_test_split(features, target, test_size=0.2, random_state=42)\n",
    "\n",
    "models = {\n",
    "    \"Linear Regression\": LinearRegression(),\n",
    "    \"Random Forest\": RandomForestRegressor(n_estimators=100, random_state=42),\n",
    "    \"XGBoost\": XGBRegressor(random_state=42),\n",
    "    \"LightGBM\": LGBMRegressor(random_state=42),\n",
    "    \"CatBoost\": CatBoostRegressor(verbose=0, random_state=42)\n",
    "}\n"
   ]
  },
  {
   "cell_type": "code",
   "execution_count": 22,
   "metadata": {},
   "outputs": [
    {
     "name": "stdout",
     "output_type": "stream",
     "text": [
      "[LightGBM] [Info] Auto-choosing col-wise multi-threading, the overhead of testing was 0.000690 seconds.\n",
      "You can set `force_col_wise=true` to remove the overhead.\n",
      "[LightGBM] [Info] Total Bins 765\n",
      "[LightGBM] [Info] Number of data points in the train set: 54158, number of used features: 3\n",
      "[LightGBM] [Info] Start training from score 241.709585\n",
      "[LightGBM] [Info] Auto-choosing row-wise multi-threading, the overhead of testing was 0.000202 seconds.\n",
      "You can set `force_row_wise=true` to remove the overhead.\n",
      "And if memory is not enough, you can set `force_col_wise=true`.\n",
      "[LightGBM] [Info] Total Bins 765\n",
      "[LightGBM] [Info] Number of data points in the train set: 54158, number of used features: 3\n",
      "[LightGBM] [Info] Start training from score 241.709585\n"
     ]
    },
    {
     "data": {
      "text/html": [
       "\n",
       "        <iframe\n",
       "            width=\"100%\"\n",
       "            height=\"600\"\n",
       "            src=\"http://localhost:59612\"\n",
       "            frameborder=\"0\"\n",
       "            allowfullscreen\n",
       "            \n",
       "        ></iframe>\n",
       "        "
      ],
      "text/plain": [
       "<IPython.lib.display.IFrame at 0x221cdc691d0>"
      ]
     },
     "execution_count": 22,
     "metadata": {},
     "output_type": "execute_result"
    },
    {
     "name": "stderr",
     "output_type": "stream",
     "text": [
      "127.0.0.1 - - [23/Aug/2024 22:42:57] \"GET / HTTP/1.1\" 200 -\n"
     ]
    }
   ],
   "source": [
    "dashboard = lc.Dashboard(\n",
    "    columns=3,\n",
    "    rows=2,\n",
    "    theme=lc.Themes.Dark\n",
    ")\n",
    "\n",
    "def add_feature_importance_to_dashboard(dashboard, model_name, importances, column_index, row_index):\n",
    "    \"\"\"\n",
    "    Add a feature importance bar chart to the dashboard.\n",
    "    \"\"\"\n",
    "    importance_df = pd.DataFrame({'Feature': features.columns, 'Importance': importances})\n",
    "    importance_df = importance_df.sort_values(by='Importance', ascending=False)\n",
    "\n",
    "    chart = dashboard.BarChart(\n",
    "        column_index=column_index,\n",
    "        row_index=row_index,\n",
    "        row_span=1,\n",
    "        column_span=1\n",
    "    )\n",
    "    chart.set_title(f'{model_name} Feature Importances')\n",
    "    \n",
    "    bar_data = [{'category': str(row['Feature']), 'value': float(row['Importance'])} for _, row in importance_df.iterrows()]\n",
    "    chart.set_data(bar_data)\n",
    "\n",
    "preprocessor = ColumnTransformer(\n",
    "    transformers=[\n",
    "        ('num', StandardScaler(), features.columns)\n",
    "    ])\n",
    "\n",
    "for i, (model_name, model) in enumerate(models.items()):\n",
    "    pipeline = Pipeline(steps=[\n",
    "        ('preprocessor', preprocessor),\n",
    "        ('regressor', model)\n",
    "    ])\n",
    "\n",
    "    pipeline.fit(X_train, y_train)\n",
    "\n",
    "    if hasattr(model, 'feature_importances_'):\n",
    "        importances = model.feature_importances_\n",
    "    elif hasattr(model, 'coef_'):\n",
    "        importances = np.abs(model.coef_)  \n",
    "    else:\n",
    "        importances = np.zeros(len(features.columns))\n",
    "\n",
    "    add_feature_importance_to_dashboard(\n",
    "        dashboard=dashboard,\n",
    "        model_name=model_name,\n",
    "        importances=importances,\n",
    "        column_index=i % 3,\n",
    "        row_index=i // 3\n",
    "    )\n",
    "\n",
    "estimators = [\n",
    "    ('rf', RandomForestRegressor(n_estimators=100, random_state=42)),\n",
    "    ('xgb', XGBRegressor(random_state=42)),\n",
    "    ('lgbm', LGBMRegressor(random_state=42)),\n",
    "    ('cat', CatBoostRegressor(verbose=0, random_state=42))\n",
    "]\n",
    "\n",
    "voting_reg = VotingRegressor(estimators=estimators)\n",
    "\n",
    "pipeline = Pipeline(steps=[\n",
    "    ('preprocessor', preprocessor),\n",
    "    ('regressor', voting_reg)\n",
    "])\n",
    "\n",
    "pipeline.fit(X_train, y_train)\n",
    "\n",
    "ensemble_importances = np.mean([\n",
    "    pipeline.named_steps['regressor'].estimators_[i].feature_importances_\n",
    "    for i in range(len(pipeline.named_steps['regressor'].estimators_))\n",
    "], axis=0)\n",
    "\n",
    "add_feature_importance_to_dashboard(\n",
    "    dashboard=dashboard,\n",
    "    model_name='Ensemble Methods',\n",
    "    importances=ensemble_importances,\n",
    "    column_index=2,\n",
    "    row_index=1\n",
    ")\n",
    "\n",
    "dashboard.open()"
   ]
  },
  {
   "cell_type": "code",
   "execution_count": 23,
   "metadata": {},
   "outputs": [
    {
     "name": "stdout",
     "output_type": "stream",
     "text": [
      "[LightGBM] [Info] Auto-choosing row-wise multi-threading, the overhead of testing was 0.000142 seconds.\n",
      "You can set `force_row_wise=true` to remove the overhead.\n",
      "And if memory is not enough, you can set `force_col_wise=true`.\n",
      "[LightGBM] [Info] Total Bins 765\n",
      "[LightGBM] [Info] Number of data points in the train set: 54158, number of used features: 3\n",
      "[LightGBM] [Info] Start training from score 241.709585\n"
     ]
    }
   ],
   "source": [
    "dashboard = lc.Dashboard(\n",
    "    columns=3,\n",
    "    rows=2,\n",
    "    theme=lc.Themes.Dark\n",
    ")\n",
    "\n",
    "def add_prediction_vs_actual_to_dashboard(dashboard, model_name, model, column_index, row_index):\n",
    "    \"\"\"\n",
    "    Add a plot of predicted vs actual values to the dashboard.\n",
    "    \"\"\"\n",
    "    pipeline = Pipeline(steps=[\n",
    "        ('preprocessor', preprocessor),\n",
    "        ('regressor', model)\n",
    "    ])\n",
    "\n",
    "    pipeline.fit(X_train, y_train)\n",
    "    \n",
    "    y_pred = pipeline.predict(X_test)\n",
    "    \n",
    "    chart = dashboard.ChartXY(column_index=column_index, row_index=row_index, column_span=1, row_span=1)\n",
    "    chart.set_title(f'{model_name} Predictions vs Actual')\n",
    "    \n",
    "    pred_series = chart.add_point_series()\n",
    "    pred_series.add(y_test.tolist(), y_pred.tolist()).set_name('Predicted vs Actual')\n",
    "    \n",
    "    line_series = chart.add_line_series()\n",
    "    min_val = min(min(y_test), min(y_pred))\n",
    "    max_val = max(max(y_test), max(y_pred))\n",
    "    line_series.add([min_val, max_val], [min_val, max_val])\n",
    "    line_series.set_name('Ideal Line')\n",
    "    \n",
    "    chart.get_default_x_axis().set_title('Actual AC Power')\n",
    "    chart.get_default_y_axis().set_title('Predicted AC Power')\n",
    "    \n",
    "    legend = chart.add_legend(horizontal=False)\n",
    "    legend.add(pred_series)\n",
    "    legend.add(line_series)\n",
    "\n",
    "preprocessor = ColumnTransformer(\n",
    "    transformers=[\n",
    "        ('num', StandardScaler(), features.columns)\n",
    "    ])\n",
    "\n",
    "for i, (model_name, model) in enumerate(models.items()):\n",
    "    add_prediction_vs_actual_to_dashboard(dashboard, model_name, model, column_index=i % 3, row_index=i // 3)\n",
    "\n",
    "estimators = [\n",
    "    ('rf', RandomForestRegressor(n_estimators=100, random_state=42)),\n",
    "    ('xgb', XGBRegressor(random_state=42)),\n",
    "    ('lgbm', LGBMRegressor(random_state=42)),\n",
    "    ('cat', CatBoostRegressor(verbose=0, random_state=42))\n",
    "]\n",
    "\n",
    "voting_reg = VotingRegressor(estimators=estimators)\n",
    "\n",
    "add_prediction_vs_actual_to_dashboard(dashboard, 'Ensemble Methods', voting_reg, column_index=2, row_index=1)\n",
    "\n",
    "dashboard.open()"
   ]
  }
 ],
 "metadata": {
  "kernelspec": {
   "display_name": "Python 3",
   "language": "python",
   "name": "python3"
  },
  "language_info": {
   "codemirror_mode": {
    "name": "ipython",
    "version": 3
   },
   "file_extension": ".py",
   "mimetype": "text/x-python",
   "name": "python",
   "nbconvert_exporter": "python",
   "pygments_lexer": "ipython3",
   "version": "3.11.4"
  }
 },
 "nbformat": 4,
 "nbformat_minor": 2
}
