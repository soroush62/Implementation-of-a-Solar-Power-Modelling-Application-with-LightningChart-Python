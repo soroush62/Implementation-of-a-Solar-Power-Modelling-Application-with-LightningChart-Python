{
 "cells": [
  {
   "cell_type": "code",
   "execution_count": 1,
   "metadata": {},
   "outputs": [
    {
     "name": "stdout",
     "output_type": "stream",
     "text": [
      "   DATE_TIME  PLANT_ID       SOURCE_KEY  DC_POWER  AC_POWER  DAILY_YIELD  \\\n",
      "0 2020-05-15   4136001  4UPUqMRk7TRMgml       0.0       0.0  9425.000000   \n",
      "1 2020-05-15   4136001  81aHJ1q11NBPMrL       0.0       0.0     0.000000   \n",
      "2 2020-05-15   4136001  9kRcWv60rDACzjR       0.0       0.0  3075.333333   \n",
      "3 2020-05-15   4136001  Et9kgGMDl729KT4       0.0       0.0   269.933333   \n",
      "4 2020-05-15   4136001  IQ2d7wF4YD8zU1Q       0.0       0.0  3177.000000   \n",
      "\n",
      "    TOTAL_YIELD  \n",
      "0  2.429011e+06  \n",
      "1  1.215279e+09  \n",
      "2  2.247720e+09  \n",
      "3  1.704250e+06  \n",
      "4  1.994153e+07  \n",
      "            DATE_TIME  PLANT_ID       SOURCE_KEY  AMBIENT_TEMPERATURE  \\\n",
      "0 2020-05-15 00:00:00   4136001  iq8k7ZNt4Mwm3w0            27.004764   \n",
      "1 2020-05-15 00:15:00   4136001  iq8k7ZNt4Mwm3w0            26.880811   \n",
      "2 2020-05-15 00:30:00   4136001  iq8k7ZNt4Mwm3w0            26.682055   \n",
      "3 2020-05-15 00:45:00   4136001  iq8k7ZNt4Mwm3w0            26.500589   \n",
      "4 2020-05-15 01:00:00   4136001  iq8k7ZNt4Mwm3w0            26.596148   \n",
      "\n",
      "   MODULE_TEMPERATURE  IRRADIATION  \n",
      "0           25.060789          0.0  \n",
      "1           24.421869          0.0  \n",
      "2           24.427290          0.0  \n",
      "3           24.420678          0.0  \n",
      "4           25.088210          0.0  \n"
     ]
    }
   ],
   "source": [
    "import pandas as pd\n",
    "\n",
    "generation_data = pd.read_csv('D:/wenprograming23/src/team6/Implementation-of-a-Solar-Power-Modelling-Application-with-LightningChart-Python/Dataset/Plant_2_Generation_Data.csv')\n",
    "weather_data = pd.read_csv('D:/wenprograming23/src/team6/Implementation-of-a-Solar-Power-Modelling-Application-with-LightningChart-Python/Dataset/Plant_2_Weather_Sensor_Data.csv')\n",
    "\n",
    "generation_data['DATE_TIME'] = pd.to_datetime(generation_data['DATE_TIME'])\n",
    "weather_data['DATE_TIME'] = pd.to_datetime(weather_data['DATE_TIME'])\n",
    "\n",
    "print(generation_data.head())\n",
    "print(weather_data.head())"
   ]
  },
  {
   "cell_type": "code",
   "execution_count": 2,
   "metadata": {},
   "outputs": [
    {
     "name": "stdout",
     "output_type": "stream",
     "text": [
      "   DATE_TIME  PLANT_ID     SOURCE_KEY_x  DC_POWER  AC_POWER  DAILY_YIELD  \\\n",
      "0 2020-05-15   4136001  4UPUqMRk7TRMgml       0.0       0.0  9425.000000   \n",
      "1 2020-05-15   4136001  81aHJ1q11NBPMrL       0.0       0.0     0.000000   \n",
      "2 2020-05-15   4136001  9kRcWv60rDACzjR       0.0       0.0  3075.333333   \n",
      "3 2020-05-15   4136001  Et9kgGMDl729KT4       0.0       0.0   269.933333   \n",
      "4 2020-05-15   4136001  IQ2d7wF4YD8zU1Q       0.0       0.0  3177.000000   \n",
      "\n",
      "    TOTAL_YIELD     SOURCE_KEY_y  AMBIENT_TEMPERATURE  MODULE_TEMPERATURE  \\\n",
      "0  2.429011e+06  iq8k7ZNt4Mwm3w0            27.004764           25.060789   \n",
      "1  1.215279e+09  iq8k7ZNt4Mwm3w0            27.004764           25.060789   \n",
      "2  2.247720e+09  iq8k7ZNt4Mwm3w0            27.004764           25.060789   \n",
      "3  1.704250e+06  iq8k7ZNt4Mwm3w0            27.004764           25.060789   \n",
      "4  1.994153e+07  iq8k7ZNt4Mwm3w0            27.004764           25.060789   \n",
      "\n",
      "   IRRADIATION  \n",
      "0          0.0  \n",
      "1          0.0  \n",
      "2          0.0  \n",
      "3          0.0  \n",
      "4          0.0  \n"
     ]
    }
   ],
   "source": [
    "merged_data = pd.merge(generation_data, weather_data, on=['DATE_TIME', 'PLANT_ID'])\n",
    "\n",
    "print(merged_data.head())\n"
   ]
  },
  {
   "cell_type": "code",
   "execution_count": null,
   "metadata": {},
   "outputs": [],
   "source": [
    "selected_features = merged_data[['DC_POWER', 'AC_POWER', 'AMBIENT_TEMPERATURE', 'MODULE_TEMPERATURE', 'IRRADIATION']]\n",
    "\n",
    "corr_matrix = selected_features.corr()\n",
    "\n",
    "heatmap_data = corr_matrix.values.tolist()"
   ]
  }
 ],
 "metadata": {
  "kernelspec": {
   "display_name": "Python 3",
   "language": "python",
   "name": "python3"
  },
  "language_info": {
   "codemirror_mode": {
    "name": "ipython",
    "version": 3
   },
   "file_extension": ".py",
   "mimetype": "text/x-python",
   "name": "python",
   "nbconvert_exporter": "python",
   "pygments_lexer": "ipython3",
   "version": "3.11.4"
  }
 },
 "nbformat": 4,
 "nbformat_minor": 2
}
